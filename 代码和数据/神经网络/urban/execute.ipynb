{
 "cells": [
  {
   "cell_type": "code",
   "execution_count": 1,
   "metadata": {},
   "outputs": [],
   "source": [
    "#导入所有的依赖包\n",
    "import  tensorflow as tf\n",
    "import numpy as np\n",
    "from cnnModel import cnnModel\n",
    "import os\n",
    "import pickle\n",
    "import getConfig\n",
    "import sys\n",
    "import matplotlib.pyplot as plt\n",
    "import csv\n",
    "%matplotlib inline"
   ]
  },
  {
   "cell_type": "code",
   "execution_count": 2,
   "metadata": {},
   "outputs": [],
   "source": [
    "#初始化一个字典，用于存储从配置文件中读取的参数配置\n",
    "gConfig = {}\n",
    "#使用get_config方法获取配置文件中的参数\n",
    "gConfig=getConfig.get_config(config_file=\"config.ini\")"
   ]
  },
  {
   "cell_type": "code",
   "execution_count": 3,
   "metadata": {},
   "outputs": [],
   "source": [
    "#定义read_data函数，读取数据\n",
    "def read_data(dataset_path, im_dim_x, im_dim_y, num_channels,num_files,images_per_file):\n",
    "         # 获取训练集中训练文件的名称\n",
    "        files_names = os.listdir(dataset_path)\n",
    "        print(files_names)\n",
    "        #创建空的多维数组用于存放图片的二进制数据\n",
    "        dataset_array = np.zeros(shape=(num_files * images_per_file, im_dim_y, im_dim_x, num_channels))\n",
    "        # 创建空的数组用于存放图片的标注信息\n",
    "        dataset_labels = np.zeros(shape=(num_files * images_per_file), dtype=np.uint8)\n",
    "        index = 0\n",
    "        #从训练集中读取二进制数据并将其维度转换成300*480*3\n",
    "        for file_name in files_names:\n",
    "            if file_name[0:11] == \"data_batch_\":\n",
    "                print(\"正在处理数据 : \", file_name)\n",
    "                data_dict = unpickle_patch(dataset_path + file_name)\n",
    "                images_data = data_dict[\"data\"]\n",
    "                print(images_data.shape)\n",
    "                # 格式转换为300*480*3 shape.\n",
    "                images_data_reshaped = np.reshape(images_data, newshape=(len(images_data), im_dim_y, im_dim_x, num_channels))\n",
    "                # 将维度转换后的图片数据存入指定数组内\n",
    "                dataset_array[index * images_per_file:(index + 1) * images_per_file, :, :, :] = images_data_reshaped\n",
    "                #  将维度转换后的标注数据存入指定数组内\n",
    "                dataset_labels[index * images_per_file:(index + 1) * images_per_file] = data_dict[\"labels\"]\n",
    "                index = index + 1\n",
    "        return dataset_array, dataset_labels  # 返回数据"
   ]
  },
  {
   "cell_type": "code",
   "execution_count": 4,
   "metadata": {},
   "outputs": [],
   "source": [
    "def unpickle_patch(file):\n",
    "    #打开文件，读取二进制文件，返回读取到的数据\n",
    "    patch_bin_file = open(file, 'rb')\n",
    "    patch_dict = pickle.load(patch_bin_file, encoding='bytes')\n",
    "    return patch_dict"
   ]
  },
  {
   "cell_type": "code",
   "execution_count": 5,
   "metadata": {},
   "outputs": [],
   "source": [
    "def create_model():\n",
    "    #判断是否有预训练模型\n",
    "    if 'pretrained_model'in gConfig:\n",
    "        model=tf.keras.models.load_model(gConfig['pretrained_model'])\n",
    "        return model\n",
    "    ckpt=tf.io.gfile.listdir(gConfig['working_directory'])\n",
    "\n",
    "    #判断是否已经有model文件存在，如果model文件存在则加载原来的model并在原来的moldel继续训练，如果不存在则新建model相关文件\n",
    "    if ckpt:\n",
    "        #如果存在模型文件，则加载存放model文件夹中最新的文件\n",
    "        model_file=os.path.join(gConfig['working_directory'], ckpt[-1])\n",
    "        print(\"Reading model parameters from %s\" % model_file)\n",
    "        #使用tf.keras.models.load_model来加载模型\n",
    "\n",
    "        model=tf.keras.models.load_model(model_file)\n",
    "        return model\n",
    "    else:\n",
    "        model=cnnModel(gConfig['keeps'])\n",
    "        model=model.createModel()\n",
    "        return model"
   ]
  },
  {
   "cell_type": "code",
   "execution_count": 7,
   "metadata": {},
   "outputs": [
    {
     "name": "stdout",
     "output_type": "stream",
     "text": [
      "['data_batch_0_480_300', 'data_batch_0_480_440', 'data_batch_0_480_320', 'data_batch_0_480_640']\n",
      "正在处理数据 :  data_batch_0_480_300\n",
      "(648, 432000)\n",
      "正在处理数据 :  data_batch_0_480_440\n",
      "(648, 432000)\n",
      "正在处理数据 :  data_batch_0_480_320\n",
      "(648, 432000)\n",
      "正在处理数据 :  data_batch_0_480_640\n",
      "(648, 432000)\n"
     ]
    }
   ],
   "source": [
    "#使用read_data函数读取训练数据\n",
    "dataset_array, dataset_labels = read_data(dataset_path=gConfig['dataset_path'], im_dim_x=gConfig['im_dim_x'], im_dim_y=gConfig['im_dim_y'],\n",
    "   num_channels=gConfig['num_channels'],num_files=gConfig['num_files'],images_per_file=648)"
   ]
  },
  {
   "cell_type": "code",
   "execution_count": 8,
   "metadata": {},
   "outputs": [],
   "source": [
    "#对读取到的输入数据进行归一化处理\n",
    "dataset_array = dataset_array.astype('float32')\n",
    "dataset_array = dataset_array / 255"
   ]
  },
  {
   "cell_type": "code",
   "execution_count": 10,
   "metadata": {},
   "outputs": [
    {
     "name": "stdout",
     "output_type": "stream",
     "text": [
      "['data_batch_0_480_300', 'data_batch_0_480_440', 'data_batch_0_480_320', 'data_batch_0_480_640']\n",
      "正在处理数据 :  data_batch_0_480_300\n",
      "(162, 432000)\n",
      "正在处理数据 :  data_batch_0_480_440\n",
      "(162, 432000)\n",
      "正在处理数据 :  data_batch_0_480_320\n",
      "(162, 432000)\n",
      "正在处理数据 :  data_batch_0_480_640\n",
      "(162, 432000)\n"
     ]
    }
   ],
   "source": [
    "#使用read_data函数读取训练数据\n",
    "test_array, test_labels = read_data(dataset_path=gConfig['test_path'], im_dim_x=gConfig['im_dim_x'], im_dim_y=gConfig['im_dim_y'],\n",
    "   num_channels=gConfig['num_channels'],num_files=4,images_per_file=162)"
   ]
  },
  {
   "cell_type": "code",
   "execution_count": 11,
   "metadata": {},
   "outputs": [],
   "source": [
    "test_array = test_array.astype('float32') / 255"
   ]
  },
  {
   "cell_type": "code",
   "execution_count": 30,
   "metadata": {},
   "outputs": [
    {
     "name": "stdout",
     "output_type": "stream",
     "text": [
      "['101', '8.244348558', '2.3012226', '167.0393372', '10.312181']\n"
     ]
    }
   ],
   "source": [
    "all_histories = []\n",
    "if os.path.exists('./boring_out.csv'):\n",
    "    with open('./boring_out.csv', encoding='utf-8') as f:\n",
    "        csv_reader_lines = csv.reader(f)\n",
    "        for one_line in csv_reader_lines:\n",
    "            all_histories.append(one_line)\n",
    "else:\n",
    "    all_histories = [['epoch', 'loss', 'mae', 'val_lose', 'val_mae']]\n",
    "print(all_histories[-1])"
   ]
  },
  {
   "cell_type": "code",
   "execution_count": 32,
   "metadata": {},
   "outputs": [],
   "source": [
    "#定义训练函数\n",
    "def train():\n",
    "    #初始化Model\n",
    "    model=create_model()\n",
    "#     print(model.summary())\n",
    "    #使用fit方法进行训练，verbose是控制输出的信息，validation_data是配置测试数据集\n",
    "    history = model.fit(dataset_array,dataset_labels,verbose=1,epochs=1,validation_data=(test_array,test_labels),batch_size=32)\n",
    "#     print(history.history)\n",
    "    # 获取到history的属性\n",
    "    epoch = history.epoch\n",
    "    loss = history.history['loss']\n",
    "    mae = history.history['mae']\n",
    "    val_lose = history.history['val_loss']\n",
    "    val_mae = history.history['val_mae']\n",
    "    length = len(all_histories)\n",
    "    for i in epoch:\n",
    "        all_histories.append([int(length+i), loss[i], mae[i], val_lose[i], val_mae[i]])\n",
    "    # 达到一个训练模型保存点后，将模型保存下来，并打印出这个保存点的平均准确率\n",
    "    filename='cnn_model.h5'\n",
    "    checkpoint_path = os.path.join(gConfig['working_directory'], filename)\n",
    "    model.save(checkpoint_path)\n",
    "    sys.stdout.flush()"
   ]
  },
  {
   "cell_type": "code",
   "execution_count": 33,
   "metadata": {},
   "outputs": [
    {
     "name": "stdout",
     "output_type": "stream",
     "text": [
      "Reading model parameters from model_dir/boring/cnn_model.h5\n",
      "Model: \"sequential\"\n",
      "_________________________________________________________________\n",
      "Layer (type)                 Output Shape              Param #   \n",
      "=================================================================\n",
      "conv1 (Conv2D)               (None, 300, 480, 64)      1792      \n",
      "_________________________________________________________________\n",
      "conv2 (Conv2D)               (None, 300, 480, 64)      36928     \n",
      "_________________________________________________________________\n",
      "batch_normalization (BatchNo (None, 300, 480, 64)      256       \n",
      "_________________________________________________________________\n",
      "pool1 (MaxPooling2D)         (None, 150, 240, 64)      0         \n",
      "_________________________________________________________________\n",
      "d1 (Dropout)                 (None, 150, 240, 64)      0         \n",
      "_________________________________________________________________\n",
      "batch_normalization_1 (Batch (None, 150, 240, 64)      256       \n",
      "_________________________________________________________________\n",
      "conv3 (Conv2D)               (None, 150, 240, 128)     73856     \n",
      "_________________________________________________________________\n",
      "conv4 (Conv2D)               (None, 150, 240, 128)     147584    \n",
      "_________________________________________________________________\n",
      "batch_normalization_2 (Batch (None, 150, 240, 128)     512       \n",
      "_________________________________________________________________\n",
      "pool2 (MaxPooling2D)         (None, 75, 120, 128)      0         \n",
      "_________________________________________________________________\n",
      "d2 (Dropout)                 (None, 75, 120, 128)      0         \n",
      "_________________________________________________________________\n",
      "batch_normalization_3 (Batch (None, 75, 120, 128)      512       \n",
      "_________________________________________________________________\n",
      "conv5 (Conv2D)               (None, 75, 120, 256)      295168    \n",
      "_________________________________________________________________\n",
      "conv6 (Conv2D)               (None, 75, 120, 256)      590080    \n",
      "_________________________________________________________________\n",
      "batch_normalization_4 (Batch (None, 75, 120, 256)      1024      \n",
      "_________________________________________________________________\n",
      "pool3 (MaxPooling2D)         (None, 37, 60, 256)       0         \n",
      "_________________________________________________________________\n",
      "d3 (Dropout)                 (None, 37, 60, 256)       0         \n",
      "_________________________________________________________________\n",
      "batch_normalization_5 (Batch (None, 37, 60, 256)       1024      \n",
      "_________________________________________________________________\n",
      "flatten (Flatten)            (None, 568320)            0         \n",
      "_________________________________________________________________\n",
      "dense (Dense)                (None, 1)                 568321    \n",
      "=================================================================\n",
      "Total params: 1,717,313\n",
      "Trainable params: 1,715,521\n",
      "Non-trainable params: 1,792\n",
      "_________________________________________________________________\n",
      "None\n",
      "Train on 2592 samples, validate on 648 samples\n",
      "2592/2592 [==============================] - 72s 28ms/sample - loss: 8.1152 - mae: 2.2630 - val_loss: 144.3410 - val_mae: 8.8326\n",
      "[102, 8.11519420294114, 2.2630072, 144.34098326129677, 8.832601]\n"
     ]
    }
   ],
   "source": [
    "train()\n",
    "# 输出成csv文件\n",
    "with open('./boring_out.csv', mode='w', encoding='utf-8', newline='') as f:\n",
    "    writer = csv.writer(f)\n",
    "    writer.writerows(all_histories)\n",
    "print(all_histories[-1])"
   ]
  },
  {
   "cell_type": "code",
   "execution_count": null,
   "metadata": {},
   "outputs": [],
   "source": []
  }
 ],
 "metadata": {
  "kernelspec": {
   "display_name": "Python 3",
   "language": "python",
   "name": "python3"
  },
  "language_info": {
   "codemirror_mode": {
    "name": "ipython",
    "version": 3
   },
   "file_extension": ".py",
   "mimetype": "text/x-python",
   "name": "python",
   "nbconvert_exporter": "python",
   "pygments_lexer": "ipython3",
   "version": "3.6.8"
  }
 },
 "nbformat": 4,
 "nbformat_minor": 4
}
